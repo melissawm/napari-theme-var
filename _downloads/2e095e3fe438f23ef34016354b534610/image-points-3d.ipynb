{
  "cells": [
    {
      "cell_type": "markdown",
      "metadata": {},
      "source": [
        "\n# Image points 3D\n\nDisplay points overlaid on a 3D image\n\n.. tags:: visualization-nD\n"
      ]
    },
    {
      "cell_type": "code",
      "execution_count": null,
      "metadata": {
        "collapsed": false
      },
      "outputs": [],
      "source": [
        "from skimage import data, feature, filters\n\nimport napari\n\ncells = data.cells3d()\nnuclei = cells[:, 1]\nsmooth = filters.gaussian(nuclei, sigma=10)\npts = feature.peak_local_max(smooth)\nviewer = napari.view_image(\n        cells, channel_axis=1, name=['membranes', 'nuclei'], ndisplay=3\n        )\nviewer.add_points(pts)\nviewer.camera.angles = (10, -20, 130)\n\nif __name__ == '__main__':\n    napari.run()"
      ]
    }
  ],
  "metadata": {
    "kernelspec": {
      "display_name": "Python 3",
      "language": "python",
      "name": "python3"
    },
    "language_info": {
      "codemirror_mode": {
        "name": "ipython",
        "version": 3
      },
      "file_extension": ".py",
      "mimetype": "text/x-python",
      "name": "python",
      "nbconvert_exporter": "python",
      "pygments_lexer": "ipython3",
      "version": "3.11.7"
    }
  },
  "nbformat": 4,
  "nbformat_minor": 0
}