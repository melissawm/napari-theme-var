{
  "cells": [
    {
      "cell_type": "markdown",
      "metadata": {},
      "source": [
        "\n# Labels 3D\n\nView 3D labels.\n\n.. tags:: visualization-nD\n"
      ]
    },
    {
      "cell_type": "code",
      "execution_count": null,
      "metadata": {
        "collapsed": false
      },
      "outputs": [],
      "source": [
        "import numpy as np\nfrom scipy import ndimage as ndi\nfrom skimage import data, filters, morphology\n\nimport napari\n\ncells3d = data.cells3d()\n\nviewer = napari.view_image(\n    cells3d, channel_axis=1, name=['membranes', 'nuclei']\n)\nmembrane, nuclei = cells3d.transpose((1, 0, 2, 3)) / np.max(cells3d)\nedges = filters.scharr(nuclei)\ndenoised = ndi.median_filter(nuclei, size=3)\nthresholded = denoised > filters.threshold_li(denoised)\ncleaned = morphology.remove_small_objects(\n    morphology.remove_small_holes(thresholded, 20**3),\n    20**3,\n)\n\nsegmented = ndi.label(cleaned)[0]\n# maxima = ndi.label(morphology.local_maxima(filters.gaussian(nuclei, sigma=10)))[0]\n# markers_big = morphology.dilation(maxima, morphology.ball(5))\n\n# segmented = segmentation.watershed(\n#     edges,\n#     markers_big,\n#     mask=cleaned,\n# )\n\nlabels_layer = viewer.add_labels(segmented)\n\nif __name__ == '__main__':\n    napari.run()"
      ]
    }
  ],
  "metadata": {
    "kernelspec": {
      "display_name": "Python 3",
      "language": "python",
      "name": "python3"
    },
    "language_info": {
      "codemirror_mode": {
        "name": "ipython",
        "version": 3
      },
      "file_extension": ".py",
      "mimetype": "text/x-python",
      "name": "python",
      "nbconvert_exporter": "python",
      "pygments_lexer": "ipython3",
      "version": "3.10.13"
    }
  },
  "nbformat": 4,
  "nbformat_minor": 0
}