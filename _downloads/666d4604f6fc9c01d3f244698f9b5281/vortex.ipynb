{
  "cells": [
    {
      "cell_type": "markdown",
      "metadata": {},
      "source": [
        "Visualizing optical flow in napari.\n\nAdapted from the scikit-image gallery [1]_.\n\nIn napari, we can show the flowing vortex as an additional dimension in the\nimage, visible by moving the slider.\n\n.. tags:: visualization-advanced, layers\n\n.. [1] https://scikit-image.org/docs/stable/auto_examples/registration/plot_opticalflow.html\n"
      ]
    },
    {
      "cell_type": "code",
      "execution_count": null,
      "metadata": {
        "collapsed": false
      },
      "outputs": [],
      "source": [
        "import numpy as np\nfrom skimage.data import vortex\nfrom skimage.registration import optical_flow_ilk\n\nimport napari"
      ]
    },
    {
      "cell_type": "markdown",
      "metadata": {},
      "source": [
        "First, we load the vortex image as a 3D array. (time, row, column)\n\n"
      ]
    },
    {
      "cell_type": "code",
      "execution_count": null,
      "metadata": {
        "collapsed": false
      },
      "outputs": [],
      "source": [
        "vortex_im = np.asarray(vortex())"
      ]
    },
    {
      "cell_type": "markdown",
      "metadata": {},
      "source": [
        "We compute the optical flow using scikit-image. (Note: as of\nscikit-image 0.21, there seems to be a transposition of the image in\nthe output, which we account for later.)\n\n"
      ]
    },
    {
      "cell_type": "code",
      "execution_count": null,
      "metadata": {
        "collapsed": false
      },
      "outputs": [],
      "source": [
        "u, v = optical_flow_ilk(vortex_im[0], vortex_im[1], radius=15)"
      ]
    },
    {
      "cell_type": "markdown",
      "metadata": {},
      "source": [
        "Compute the flow magnitude, for visualization.\n\n"
      ]
    },
    {
      "cell_type": "code",
      "execution_count": null,
      "metadata": {
        "collapsed": false
      },
      "outputs": [],
      "source": [
        "magnitude = np.sqrt(u ** 2 + v ** 2)"
      ]
    },
    {
      "cell_type": "markdown",
      "metadata": {},
      "source": [
        "Create a viewer, add the vortex frames, and overlay the flow\nmagnitude.\n\n"
      ]
    },
    {
      "cell_type": "code",
      "execution_count": null,
      "metadata": {
        "collapsed": false
      },
      "outputs": [],
      "source": [
        "viewer, vortex_layer = napari.imshow(vortex_im)\nmag_layer = viewer.add_image(magnitude, colormap='magma', opacity=0.3)"
      ]
    },
    {
      "cell_type": "markdown",
      "metadata": {},
      "source": [
        "Finally, we subsample the vector field to display it \u2014 it's too\nmessy otherwise! And we transpose the rows/columns axes to match the\ncurrent scikit-image output.\n\n"
      ]
    },
    {
      "cell_type": "code",
      "execution_count": null,
      "metadata": {
        "collapsed": false
      },
      "outputs": [],
      "source": [
        "nvec = 21\nnr, nc = magnitude.shape\nstep = max(nr//nvec, nc//nvec)\noffset = step // 2\nusub = u[offset::step, offset::step]\nvsub = v[offset::step, offset::step]\n\nvectors_field = np.transpose(  # transpose required \u2014 skimage bug?\n        np.stack([usub, vsub], axis=-1),\n        (1, 0, 2),\n        )\n\nflow_layer = viewer.add_vectors(\n        vectors_field,\n        name='optical flow',\n        scale=[step, step],\n        translate=[offset, offset],\n        edge_width=0.3,\n        length=0.3,\n        )\n\nif __name__ == '__main__':\n    napari.run()"
      ]
    }
  ],
  "metadata": {
    "kernelspec": {
      "display_name": "Python 3",
      "language": "python",
      "name": "python3"
    },
    "language_info": {
      "codemirror_mode": {
        "name": "ipython",
        "version": 3
      },
      "file_extension": ".py",
      "mimetype": "text/x-python",
      "name": "python",
      "nbconvert_exporter": "python",
      "pygments_lexer": "ipython3",
      "version": "3.10.13"
    }
  },
  "nbformat": 4,
  "nbformat_minor": 0
}