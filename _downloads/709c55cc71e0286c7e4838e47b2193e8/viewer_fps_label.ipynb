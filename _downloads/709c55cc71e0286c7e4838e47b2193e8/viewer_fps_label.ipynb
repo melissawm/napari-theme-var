{
  "cells": [
    {
      "cell_type": "markdown",
      "metadata": {},
      "source": [
        "\n# Viewer FPS label\n\nDisplay a 3D volume and the fps label.\n\n.. tags:: experimental\n"
      ]
    },
    {
      "cell_type": "code",
      "execution_count": null,
      "metadata": {
        "collapsed": false
      },
      "outputs": [],
      "source": [
        "import numpy as np\n\nimport napari\n\n\ndef update_fps(fps):\n    \"\"\"Update fps.\"\"\"\n    viewer.text_overlay.text = f\"{fps:1.1f} FPS\"\n\n\nviewer = napari.Viewer()\nviewer.add_image(np.random.random((5, 5, 5)), colormap='red', opacity=0.8)\nviewer.text_overlay.visible = True\n# note: this is using a private attribute, so it might break\n# without warningin future versions!\nviewer.window._qt_viewer.canvas._scene_canvas.measure_fps(callback=update_fps)\n\nif __name__ == '__main__':\n    napari.run()"
      ]
    }
  ],
  "metadata": {
    "kernelspec": {
      "display_name": "Python 3",
      "language": "python",
      "name": "python3"
    },
    "language_info": {
      "codemirror_mode": {
        "name": "ipython",
        "version": 3
      },
      "file_extension": ".py",
      "mimetype": "text/x-python",
      "name": "python",
      "nbconvert_exporter": "python",
      "pygments_lexer": "ipython3",
      "version": "3.11.4"
    }
  },
  "nbformat": 4,
  "nbformat_minor": 0
}