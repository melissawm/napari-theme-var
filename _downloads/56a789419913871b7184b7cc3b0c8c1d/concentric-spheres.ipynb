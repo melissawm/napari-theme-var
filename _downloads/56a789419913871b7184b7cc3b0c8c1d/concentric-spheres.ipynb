{
  "cells": [
    {
      "cell_type": "markdown",
      "metadata": {},
      "source": [
        "\n# Concentric spheres\n\nDisplay concentric spheres in 3D.\n\n.. tags:: visualization-nD\n"
      ]
    },
    {
      "cell_type": "code",
      "execution_count": null,
      "metadata": {
        "collapsed": false
      },
      "outputs": [],
      "source": [
        "import numpy as np\nfrom skimage import morphology\n\nimport napari\n\nb0 = morphology.ball(5)\n\nb1 = morphology.ball(10)\n\nb0p = np.pad(b0, 5)\n\nviewer = napari.Viewer(ndisplay=3)\n\n# viewer.add_labels(b0)\nviewer.add_labels(b0p)\nviewer.add_labels(b1 * 2)\n\nviewer.add_points([[10, 10, 10]], size=1)\n\nif __name__ == '__main__':\n    napari.run()"
      ]
    }
  ],
  "metadata": {
    "kernelspec": {
      "display_name": "Python 3",
      "language": "python",
      "name": "python3"
    },
    "language_info": {
      "codemirror_mode": {
        "name": "ipython",
        "version": 3
      },
      "file_extension": ".py",
      "mimetype": "text/x-python",
      "name": "python",
      "nbconvert_exporter": "python",
      "pygments_lexer": "ipython3",
      "version": "3.11.4"
    }
  },
  "nbformat": 4,
  "nbformat_minor": 0
}