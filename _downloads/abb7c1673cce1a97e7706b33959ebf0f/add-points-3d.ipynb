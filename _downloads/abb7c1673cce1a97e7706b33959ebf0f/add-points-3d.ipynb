{
  "cells": [
    {
      "cell_type": "markdown",
      "metadata": {},
      "source": [
        "\n# Add points 3D\n\nDisplay a labels layer above of an image layer using the add_labels and\nadd_image APIs, then add points in 3D\n\n.. tags:: visualization-nD\n"
      ]
    },
    {
      "cell_type": "code",
      "execution_count": null,
      "metadata": {
        "collapsed": false
      },
      "outputs": [],
      "source": [
        "from scipy import ndimage as ndi\nfrom skimage import data\n\nimport napari\n\nblobs = data.binary_blobs(\n        length=128, volume_fraction=0.1, n_dim=3\n        )[::2].astype(float)\nlabeled = ndi.label(blobs)[0]\n\nviewer = napari.Viewer(ndisplay=3)\nviewer.add_image(blobs, name='blobs', scale=(2, 1, 1))\nviewer.add_labels(labeled, name='blob ID', scale=(2, 1, 1))\npts = viewer.add_points()\n\nviewer.camera.angles = (0, -65, 85)\npts.mode = 'add'\n\nif __name__ == '__main__':\n    napari.run()"
      ]
    }
  ],
  "metadata": {
    "kernelspec": {
      "display_name": "Python 3",
      "language": "python",
      "name": "python3"
    },
    "language_info": {
      "codemirror_mode": {
        "name": "ipython",
        "version": 3
      },
      "file_extension": ".py",
      "mimetype": "text/x-python",
      "name": "python",
      "nbconvert_exporter": "python",
      "pygments_lexer": "ipython3",
      "version": "3.11.7"
    }
  },
  "nbformat": 4,
  "nbformat_minor": 0
}